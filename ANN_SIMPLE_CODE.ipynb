{
 "cells": [
  {
   "cell_type": "code",
   "execution_count": 51,
   "metadata": {},
   "outputs": [
    {
     "name": "stdout",
     "output_type": "stream",
     "text": [
      "Epoch 1/10\n",
      "3/3 [==============================] - 1s 192ms/step - loss: 0.5508 - acc: 0.8688 - val_loss: 0.3931 - val_acc: 0.7500\n",
      "Epoch 2/10\n",
      "3/3 [==============================] - 0s 28ms/step - loss: 0.4110 - acc: 0.8810 - val_loss: 0.3646 - val_acc: 0.7500\n",
      "Epoch 3/10\n",
      "3/3 [==============================] - 0s 30ms/step - loss: 0.3471 - acc: 0.8849 - val_loss: 0.3381 - val_acc: 0.7500\n",
      "Epoch 4/10\n",
      "3/3 [==============================] - 0s 34ms/step - loss: 0.2726 - acc: 0.9016 - val_loss: 0.2968 - val_acc: 0.7500\n",
      "Epoch 5/10\n",
      "3/3 [==============================] - 0s 29ms/step - loss: 0.2127 - acc: 0.9222 - val_loss: 0.2471 - val_acc: 0.8125\n",
      "Epoch 6/10\n",
      "3/3 [==============================] - 0s 32ms/step - loss: 0.1834 - acc: 0.9180 - val_loss: 0.1885 - val_acc: 0.8750\n",
      "Epoch 7/10\n",
      "3/3 [==============================] - 0s 24ms/step - loss: 0.1816 - acc: 0.9055 - val_loss: 0.1725 - val_acc: 0.9375\n",
      "Epoch 8/10\n",
      "3/3 [==============================] - 0s 32ms/step - loss: 0.1712 - acc: 0.9466 - val_loss: 0.1901 - val_acc: 0.8750\n",
      "Epoch 9/10\n",
      "3/3 [==============================] - 0s 31ms/step - loss: 0.1610 - acc: 0.9055 - val_loss: 0.1392 - val_acc: 0.9375\n",
      "Epoch 10/10\n",
      "3/3 [==============================] - 0s 35ms/step - loss: 0.1571 - acc: 0.9344 - val_loss: 0.1142 - val_acc: 0.9375\n",
      "2/2 [==============================] - 0s 0s/step - loss: 0.1303 - acc: 0.9516\n",
      "1/1 [==============================] - 0s 21ms/step - loss: 0.1597 - acc: 0.9500\n"
     ]
    },
    {
     "name": "stderr",
     "output_type": "stream",
     "text": [
      "C:\\Users\\Yogesh\\AppData\\Roaming\\Python\\Python38\\site-packages\\tensorflow\\python\\keras\\engine\\sequential.py:450: UserWarning: `model.predict_classes()` is deprecated and will be removed after 2021-01-01. Please use instead:* `np.argmax(model.predict(x), axis=-1)`,   if your model does multi-class classification   (e.g. if it uses a `softmax` last-layer activation).* `(model.predict(x) > 0.5).astype(\"int32\")`,   if your model does binary classification   (e.g. if it uses a `sigmoid` last-layer activation).\n",
      "  warnings.warn('`model.predict_classes()` is deprecated and '\n"
     ]
    },
    {
     "name": "stdout",
     "output_type": "stream",
     "text": [
      "INFO:tensorflow:Assets written to: C:\\Users\\Yogesh\\AppData\\Local\\Temp\\tmpcj342v80\\assets\n"
     ]
    },
    {
     "name": "stderr",
     "output_type": "stream",
     "text": [
      "INFO:tensorflow:Assets written to: C:\\Users\\Yogesh\\AppData\\Local\\Temp\\tmpcj342v80\\assets\n"
     ]
    },
    {
     "data": {
      "text/plain": [
       "137376"
      ]
     },
     "execution_count": 51,
     "metadata": {},
     "output_type": "execute_result"
    }
   ],
   "source": [
    "#Import Liraries\n",
    "import pandas as pd\n",
    "import numpy as np\n",
    "import tensorflow as tf\n",
    "from sklearn.preprocessing import LabelEncoder\n",
    "from keras.utils import to_categorical\n",
    "from sklearn.model_selection import train_test_split\n",
    "from tensorflow.keras.layers import Dense\n",
    "from tensorflow.keras.models import Sequential\n",
    "\n",
    "#Import the data set (as csv format)\n",
    "df = pd.read_csv('<fileName>.csv')\n",
    "\n",
    "#Divide the file iN Features aNd Target \n",
    "X = df.iloc[:, :3].values\n",
    "y = df.iloc[:, 3].values\n",
    "\n",
    "#ENCODE aNd categorize the Target LAel\n",
    "le = LabelEncoder()\n",
    "y = le.fit_transform(y)\n",
    "y = to_categorical(y)\n",
    "\n",
    "# Split the dataset\n",
    "X_train, X_test, y_train, y_test = train_test_split(X, y, test_size=0.2, random_state = 0)\n",
    "X_train1, X_val, y_train1, y_val = train_test_split(X_train, y_train, test_size=0.2)\n",
    "\n",
    "#Build model\n",
    "model = Sequential()\n",
    "\n",
    "model.add(Dense(4, activation='relu', input_shape=[3]))   #input_shape=features of the dataset\n",
    "model.add(Dense(2, activation='softmax'))  #2 is the target like its 1 or 0\n",
    "\n",
    "model.compile(optimizer='adam', loss='categorical_crossentropy', metrics=['acc'])\n",
    "\n",
    "#model.fit(X, y, epochs =200)\n",
    "history = model.fit(X_train1, y_train1, epochs =10, batch_size=30, validation_data=(X_val, y_val))\n",
    "\n",
    "# evaluate the model\n",
    "scores = model.evaluate(X_train1, y_train1)\n",
    "scores_1 = model.evaluate(X_test, y_test)\n",
    "\n",
    "# make class predictions with the model\n",
    "y_pred = model.predict_classes(X_val)\n",
    "y_pred1 = model.predict_classes(X_train1)\n",
    "\n",
    "#make tflite model\n",
    "from tensorflow import lite\n",
    "converter = lite.TFLiteConverter.from_keras_model(model)\n",
    "tfmodel = converter.convert()\n",
    "open('l.tflite', 'wb').write(tfmodel)"
   ]
  },
  {
   "cell_type": "code",
   "execution_count": null,
   "metadata": {},
   "outputs": [],
   "source": []
  }
 ],
 "metadata": {
  "kernelspec": {
   "display_name": "Python 3",
   "language": "python",
   "name": "python3"
  },
  "language_info": {
   "codemirror_mode": {
    "name": "ipython",
    "version": 3
   },
   "file_extension": ".py",
   "mimetype": "text/x-python",
   "name": "python",
   "nbconvert_exporter": "python",
   "pygments_lexer": "ipython3",
   "version": "3.8.6"
  }
 },
 "nbformat": 4,
 "nbformat_minor": 4
}
